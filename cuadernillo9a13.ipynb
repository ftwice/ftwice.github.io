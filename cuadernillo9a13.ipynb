{
  "nbformat": 4,
  "nbformat_minor": 0,
  "metadata": {
    "colab": {
      "provenance": [],
      "authorship_tag": "ABX9TyMVnRVJhj5DiSG1hT3dfIEd",
      "include_colab_link": true
    },
    "kernelspec": {
      "name": "python3",
      "display_name": "Python 3"
    },
    "language_info": {
      "name": "python"
    }
  },
  "cells": [
    {
      "cell_type": "markdown",
      "metadata": {
        "id": "view-in-github",
        "colab_type": "text"
      },
      "source": [
        "<a href=\"https://colab.research.google.com/github/ftwice/ftwice.github.io/blob/main/cuadernillo9a13.ipynb\" target=\"_parent\"><img src=\"https://colab.research.google.com/assets/colab-badge.svg\" alt=\"Open In Colab\"/></a>"
      ]
    },
    {
      "cell_type": "code",
      "execution_count": null,
      "metadata": {
        "id": "ELD9zoS96bgf"
      },
      "outputs": [],
      "source": [
        "#1#\n",
        "cadena = \"bienvenidos al mejor restaurante de comida japonesa... en el país\"\n",
        "print(cadena[4])  # Resultado de la operación a.\n",
        "\n",
        "#2#\n",
        "print(cadena[-3])  # Resultado de la operación b.\n",
        "\n",
        "#3#\n",
        "print(cadena[0:9])  # Resultado de la operación c.\n",
        "\n",
        "#4#\n",
        "print(cadena[::8])  # Resultado de la operación d.\n",
        "\n",
        "#10#\n",
        "def calcular_tanques():\n",
        "    km_por_tres_litros = float(input(\"Ingrese los kilómetros que puede recorrer con tres litros de combustible: \"))\n",
        "    capacidad_tanque = float(input(\"Ingrese la capacidad en litros del tanque de su auto: \"))\n",
        "    km_total = float(input(\"Ingrese los kilómetros totales a recorrer: \"))\n",
        "    km_por_litro = km_por_tres_litros / 3\n",
        "    litros_necesarios = km_total / km_por_litro\n",
        "    num_tanques = litros_necesarios / capacidad_tanque\n",
        "    print(\"Número de tanques necesarios:\", int(num_tanques) if num_tanques.is_integer() else int(num_tanques) + 1)\n",
        "\n",
        "calcular_tanques()\n",
        "\n",
        "#11#\n",
        "def encontrar_tiempo_final():\n",
        "    horas = int(input(\"Ingrese las horas: \"))\n",
        "    minutos = int(input(\"Ingrese los minutos: \"))\n",
        "    duracion = int(input(\"Ingrese la duración en minutos: \"))\n",
        "    total_minutos = minutos + duracion\n",
        "    horas += total_minutos // 60\n",
        "    minutos_final = total_minutos % 60\n",
        "    horas_final = horas % 24\n",
        "    print(f\"Tiempo final: {horas_final} horas, {minutos_final} minutos\")\n",
        "\n",
        "encontrar_tiempo_final()\n",
        "\n",
        "#12#\n",
        "def comparar_iniciales():\n",
        "    nombre1 = input(\"Ingrese el nombre de la primera persona: \")\n",
        "    nombre2 = input(\"Ingrese el nombre de la segunda persona: \")\n",
        "    if nombre1[0].upper() == nombre2[0].upper():\n",
        "        print(\"Si coinciden\")\n",
        "    else:\n",
        "        print(\"No coinciden, volver a intentarlo\")\n",
        "\n",
        "comparar_iniciales()\n",
        "\n",
        "#13#\n",
        "def evaluar_numero():\n",
        "    numero = float(input(\"Ingrese un número: \"))\n",
        "    if numero > 0:\n",
        "        print(\"Positivo\")\n",
        "    elif numero < 0:\n",
        "        print(\"Negativo\")\n",
        "    else:\n",
        "        print(\"Cero\")\n",
        "\n",
        "evaluar_numero()"
      ]
    }
  ]
}